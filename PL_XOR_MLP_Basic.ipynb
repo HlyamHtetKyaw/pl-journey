{
  "nbformat": 4,
  "nbformat_minor": 0,
  "metadata": {
    "colab": {
      "provenance": [],
      "authorship_tag": "ABX9TyPiweSmXePM4J6Q9StUWYHR",
      "include_colab_link": true
    },
    "kernelspec": {
      "name": "python3",
      "display_name": "Python 3"
    },
    "language_info": {
      "name": "python"
    },
    "widgets": {
      "application/vnd.jupyter.widget-state+json": {
        "56c7ec98f5684b918f4181b88411609b": {
          "model_module": "@jupyter-widgets/controls",
          "model_name": "HBoxModel",
          "model_module_version": "1.5.0",
          "state": {
            "_dom_classes": [],
            "_model_module": "@jupyter-widgets/controls",
            "_model_module_version": "1.5.0",
            "_model_name": "HBoxModel",
            "_view_count": null,
            "_view_module": "@jupyter-widgets/controls",
            "_view_module_version": "1.5.0",
            "_view_name": "HBoxView",
            "box_style": "",
            "children": [
              "IPY_MODEL_fccc99ed8db84845be1e277f28f054a3",
              "IPY_MODEL_755ae7a8a6ce416eb325ee58fd73c1f0",
              "IPY_MODEL_e9ae1ced58d545b7874c1e4ff7867b0e"
            ],
            "layout": "IPY_MODEL_119a5a309e5748ae8c2bbaba9d265f4a"
          }
        },
        "fccc99ed8db84845be1e277f28f054a3": {
          "model_module": "@jupyter-widgets/controls",
          "model_name": "HTMLModel",
          "model_module_version": "1.5.0",
          "state": {
            "_dom_classes": [],
            "_model_module": "@jupyter-widgets/controls",
            "_model_module_version": "1.5.0",
            "_model_name": "HTMLModel",
            "_view_count": null,
            "_view_module": "@jupyter-widgets/controls",
            "_view_module_version": "1.5.0",
            "_view_name": "HTMLView",
            "description": "",
            "description_tooltip": null,
            "layout": "IPY_MODEL_6b8dbe0285fa499db660394116e6a7a3",
            "placeholder": "​",
            "style": "IPY_MODEL_f67fc2ee05934e3c942424e099b2d08c",
            "value": "Epoch 99: 100%"
          }
        },
        "755ae7a8a6ce416eb325ee58fd73c1f0": {
          "model_module": "@jupyter-widgets/controls",
          "model_name": "FloatProgressModel",
          "model_module_version": "1.5.0",
          "state": {
            "_dom_classes": [],
            "_model_module": "@jupyter-widgets/controls",
            "_model_module_version": "1.5.0",
            "_model_name": "FloatProgressModel",
            "_view_count": null,
            "_view_module": "@jupyter-widgets/controls",
            "_view_module_version": "1.5.0",
            "_view_name": "ProgressView",
            "bar_style": "success",
            "description": "",
            "description_tooltip": null,
            "layout": "IPY_MODEL_ab84cd76f5364336afd2412d81f3ca87",
            "max": 4,
            "min": 0,
            "orientation": "horizontal",
            "style": "IPY_MODEL_f769b2439e9b4e6086f0ea6bf06c3270",
            "value": 4
          }
        },
        "e9ae1ced58d545b7874c1e4ff7867b0e": {
          "model_module": "@jupyter-widgets/controls",
          "model_name": "HTMLModel",
          "model_module_version": "1.5.0",
          "state": {
            "_dom_classes": [],
            "_model_module": "@jupyter-widgets/controls",
            "_model_module_version": "1.5.0",
            "_model_name": "HTMLModel",
            "_view_count": null,
            "_view_module": "@jupyter-widgets/controls",
            "_view_module_version": "1.5.0",
            "_view_name": "HTMLView",
            "description": "",
            "description_tooltip": null,
            "layout": "IPY_MODEL_fcf8a43cada94ab5bb2cf2daf46eb388",
            "placeholder": "​",
            "style": "IPY_MODEL_9d81dbaf26804369a1c46b023833005e",
            "value": " 4/4 [00:00&lt;00:00, 111.65it/s, v_num=4]"
          }
        },
        "119a5a309e5748ae8c2bbaba9d265f4a": {
          "model_module": "@jupyter-widgets/base",
          "model_name": "LayoutModel",
          "model_module_version": "1.2.0",
          "state": {
            "_model_module": "@jupyter-widgets/base",
            "_model_module_version": "1.2.0",
            "_model_name": "LayoutModel",
            "_view_count": null,
            "_view_module": "@jupyter-widgets/base",
            "_view_module_version": "1.2.0",
            "_view_name": "LayoutView",
            "align_content": null,
            "align_items": null,
            "align_self": null,
            "border": null,
            "bottom": null,
            "display": "inline-flex",
            "flex": null,
            "flex_flow": "row wrap",
            "grid_area": null,
            "grid_auto_columns": null,
            "grid_auto_flow": null,
            "grid_auto_rows": null,
            "grid_column": null,
            "grid_gap": null,
            "grid_row": null,
            "grid_template_areas": null,
            "grid_template_columns": null,
            "grid_template_rows": null,
            "height": null,
            "justify_content": null,
            "justify_items": null,
            "left": null,
            "margin": null,
            "max_height": null,
            "max_width": null,
            "min_height": null,
            "min_width": null,
            "object_fit": null,
            "object_position": null,
            "order": null,
            "overflow": null,
            "overflow_x": null,
            "overflow_y": null,
            "padding": null,
            "right": null,
            "top": null,
            "visibility": null,
            "width": "100%"
          }
        },
        "6b8dbe0285fa499db660394116e6a7a3": {
          "model_module": "@jupyter-widgets/base",
          "model_name": "LayoutModel",
          "model_module_version": "1.2.0",
          "state": {
            "_model_module": "@jupyter-widgets/base",
            "_model_module_version": "1.2.0",
            "_model_name": "LayoutModel",
            "_view_count": null,
            "_view_module": "@jupyter-widgets/base",
            "_view_module_version": "1.2.0",
            "_view_name": "LayoutView",
            "align_content": null,
            "align_items": null,
            "align_self": null,
            "border": null,
            "bottom": null,
            "display": null,
            "flex": null,
            "flex_flow": null,
            "grid_area": null,
            "grid_auto_columns": null,
            "grid_auto_flow": null,
            "grid_auto_rows": null,
            "grid_column": null,
            "grid_gap": null,
            "grid_row": null,
            "grid_template_areas": null,
            "grid_template_columns": null,
            "grid_template_rows": null,
            "height": null,
            "justify_content": null,
            "justify_items": null,
            "left": null,
            "margin": null,
            "max_height": null,
            "max_width": null,
            "min_height": null,
            "min_width": null,
            "object_fit": null,
            "object_position": null,
            "order": null,
            "overflow": null,
            "overflow_x": null,
            "overflow_y": null,
            "padding": null,
            "right": null,
            "top": null,
            "visibility": null,
            "width": null
          }
        },
        "f67fc2ee05934e3c942424e099b2d08c": {
          "model_module": "@jupyter-widgets/controls",
          "model_name": "DescriptionStyleModel",
          "model_module_version": "1.5.0",
          "state": {
            "_model_module": "@jupyter-widgets/controls",
            "_model_module_version": "1.5.0",
            "_model_name": "DescriptionStyleModel",
            "_view_count": null,
            "_view_module": "@jupyter-widgets/base",
            "_view_module_version": "1.2.0",
            "_view_name": "StyleView",
            "description_width": ""
          }
        },
        "ab84cd76f5364336afd2412d81f3ca87": {
          "model_module": "@jupyter-widgets/base",
          "model_name": "LayoutModel",
          "model_module_version": "1.2.0",
          "state": {
            "_model_module": "@jupyter-widgets/base",
            "_model_module_version": "1.2.0",
            "_model_name": "LayoutModel",
            "_view_count": null,
            "_view_module": "@jupyter-widgets/base",
            "_view_module_version": "1.2.0",
            "_view_name": "LayoutView",
            "align_content": null,
            "align_items": null,
            "align_self": null,
            "border": null,
            "bottom": null,
            "display": null,
            "flex": "2",
            "flex_flow": null,
            "grid_area": null,
            "grid_auto_columns": null,
            "grid_auto_flow": null,
            "grid_auto_rows": null,
            "grid_column": null,
            "grid_gap": null,
            "grid_row": null,
            "grid_template_areas": null,
            "grid_template_columns": null,
            "grid_template_rows": null,
            "height": null,
            "justify_content": null,
            "justify_items": null,
            "left": null,
            "margin": null,
            "max_height": null,
            "max_width": null,
            "min_height": null,
            "min_width": null,
            "object_fit": null,
            "object_position": null,
            "order": null,
            "overflow": null,
            "overflow_x": null,
            "overflow_y": null,
            "padding": null,
            "right": null,
            "top": null,
            "visibility": null,
            "width": null
          }
        },
        "f769b2439e9b4e6086f0ea6bf06c3270": {
          "model_module": "@jupyter-widgets/controls",
          "model_name": "ProgressStyleModel",
          "model_module_version": "1.5.0",
          "state": {
            "_model_module": "@jupyter-widgets/controls",
            "_model_module_version": "1.5.0",
            "_model_name": "ProgressStyleModel",
            "_view_count": null,
            "_view_module": "@jupyter-widgets/base",
            "_view_module_version": "1.2.0",
            "_view_name": "StyleView",
            "bar_color": null,
            "description_width": ""
          }
        },
        "fcf8a43cada94ab5bb2cf2daf46eb388": {
          "model_module": "@jupyter-widgets/base",
          "model_name": "LayoutModel",
          "model_module_version": "1.2.0",
          "state": {
            "_model_module": "@jupyter-widgets/base",
            "_model_module_version": "1.2.0",
            "_model_name": "LayoutModel",
            "_view_count": null,
            "_view_module": "@jupyter-widgets/base",
            "_view_module_version": "1.2.0",
            "_view_name": "LayoutView",
            "align_content": null,
            "align_items": null,
            "align_self": null,
            "border": null,
            "bottom": null,
            "display": null,
            "flex": null,
            "flex_flow": null,
            "grid_area": null,
            "grid_auto_columns": null,
            "grid_auto_flow": null,
            "grid_auto_rows": null,
            "grid_column": null,
            "grid_gap": null,
            "grid_row": null,
            "grid_template_areas": null,
            "grid_template_columns": null,
            "grid_template_rows": null,
            "height": null,
            "justify_content": null,
            "justify_items": null,
            "left": null,
            "margin": null,
            "max_height": null,
            "max_width": null,
            "min_height": null,
            "min_width": null,
            "object_fit": null,
            "object_position": null,
            "order": null,
            "overflow": null,
            "overflow_x": null,
            "overflow_y": null,
            "padding": null,
            "right": null,
            "top": null,
            "visibility": null,
            "width": null
          }
        },
        "9d81dbaf26804369a1c46b023833005e": {
          "model_module": "@jupyter-widgets/controls",
          "model_name": "DescriptionStyleModel",
          "model_module_version": "1.5.0",
          "state": {
            "_model_module": "@jupyter-widgets/controls",
            "_model_module_version": "1.5.0",
            "_model_name": "DescriptionStyleModel",
            "_view_count": null,
            "_view_module": "@jupyter-widgets/base",
            "_view_module_version": "1.2.0",
            "_view_name": "StyleView",
            "description_width": ""
          }
        }
      }
    }
  },
  "cells": [
    {
      "cell_type": "markdown",
      "metadata": {
        "id": "view-in-github",
        "colab_type": "text"
      },
      "source": [
        "<a href=\"https://colab.research.google.com/github/HlyamHtetKyaw/pl-journey/blob/main/PL_XOR_MLP_Basic.ipynb\" target=\"_parent\"><img src=\"https://colab.research.google.com/assets/colab-badge.svg\" alt=\"Open In Colab\"/></a>"
      ]
    },
    {
      "cell_type": "code",
      "execution_count": 56,
      "metadata": {
        "id": "Q_0IAv-f27KF"
      },
      "outputs": [],
      "source": [
        "# !pip install pytorch-lightning"
      ]
    },
    {
      "cell_type": "code",
      "source": [
        "import pytorch_lightning as pl\n",
        "import torch\n",
        "from torch import nn, optim\n",
        "from torch.autograd import Variable\n",
        "import pytorch_lightning as pl\n",
        "from pytorch_lightning.callbacks import ModelCheckpoint\n",
        "from torch.utils.data import DataLoader"
      ],
      "metadata": {
        "id": "r9YYpKM4ACA3"
      },
      "execution_count": 57,
      "outputs": []
    },
    {
      "cell_type": "code",
      "source": [
        "print(\"torch vision: \",torch.__version__)\n",
        "print(\"pytorch lightening version: \",pl.__version__)"
      ],
      "metadata": {
        "colab": {
          "base_uri": "https://localhost:8080/"
        },
        "id": "BjxIFcF7ADRn",
        "outputId": "37d5e2b4-d3a3-4cab-fed6-8f19ed2fe8d8"
      },
      "execution_count": 58,
      "outputs": [
        {
          "output_type": "stream",
          "name": "stdout",
          "text": [
            "torch vision:  2.6.0+cu124\n",
            "pytorch lightening version:  2.5.2\n"
          ]
        }
      ]
    },
    {
      "cell_type": "code",
      "source": [
        "# Xor inputs\n",
        "xor_inputs = [Variable(torch.Tensor([0,0])),\n",
        "              Variable(torch.Tensor([0,1])),\n",
        "              Variable(torch.Tensor([1,0])),\n",
        "              Variable(torch.Tensor([1,1]))];"
      ],
      "metadata": {
        "id": "_0PPNowIA-aE"
      },
      "execution_count": 59,
      "outputs": []
    },
    {
      "cell_type": "code",
      "source": [
        "# Target outputs\n",
        "xor_targets = [Variable(torch.Tensor([0])),\n",
        "               Variable(torch.Tensor([1])),\n",
        "               Variable(torch.Tensor([1])),\n",
        "               Variable(torch.Tensor([0]))];"
      ],
      "metadata": {
        "id": "1l1kRz1XCQ5G"
      },
      "execution_count": 60,
      "outputs": []
    },
    {
      "cell_type": "code",
      "source": [
        "# Making data set for input and target, also loading data into train_loader\n",
        "xor_data = list(zip(xor_inputs,xor_targets));\n",
        "train_loader = DataLoader(xor_data,batch_size=1);"
      ],
      "metadata": {
        "id": "eao8Px-9CqBM"
      },
      "execution_count": 61,
      "outputs": []
    },
    {
      "cell_type": "code",
      "source": [
        "# Initializing XORModel\n",
        "class XORModel(pl.LightningModule):\n",
        "  def __init__(self):\n",
        "    super(XORModel,self).__init__();\n",
        "    self.input_layer = nn.Linear(2,4);\n",
        "    self.output_layer = nn.Linear(4,1);\n",
        "    self.sigmoid = nn.Sigmoid();\n",
        "    self.loss = nn.MSELoss();\n",
        "\n",
        "  def forward(self,input):\n",
        "    # print(\"INPUT: \",input.shape);\n",
        "    x = self.input_layer(input);\n",
        "    # print(\"FIRST: \",x.shape);\n",
        "    x = self.sigmoid(x);\n",
        "    # print(\"SECOND: \",x.shape);\n",
        "    output = self.output_layer(x)\n",
        "    # print(\"THIRD: \",output.shape);\n",
        "    return output;\n",
        "\n",
        "  def configure_optimizers(self):\n",
        "    params = self.parameters();\n",
        "    optimizer = optim.Adam(params=params,lr=0.01);\n",
        "    return optimizer;\n",
        "\n",
        "  def training_step(self,batch,batch_idx):\n",
        "    xor_input, xor_target = batch;\n",
        "    # print(\"XOR INPUT: \",xor_input.shape);\n",
        "    # print(\"XOR TARGET: \",xor_target);\n",
        "    outputs = self(xor_input);\n",
        "    # print(\"XOR OUTPUT: \",outputs.target);\n",
        "    loss = self.loss(outputs,xor_target);\n",
        "    return loss;\n",
        "\n",
        "\n",
        "# class XORModel(pl.LightningModule):\n",
        "#     def __init__(self):\n",
        "#         super(XORModel, self).__init__()\n",
        "#         self.input_layer = nn.Linear(2, 8)\n",
        "#         self.hidden_layer = nn.Linear(8, 4)\n",
        "#         self.output_layer = nn.Linear(4, 1)\n",
        "#         self.loss_fn = nn.BCEWithLogitsLoss()  # Combines sigmoid + BCE\n",
        "\n",
        "#     def forward(self, x):\n",
        "#         x = F.relu(self.input_layer(x))  # Non-linearity is essential\n",
        "#         x = F.relu(self.hidden_layer(x))\n",
        "#         x = self.output_layer(x)\n",
        "#         return x  # Don't apply sigmoid here if using BCEWithLogitsLoss\n",
        "\n",
        "#     def configure_optimizers(self):\n",
        "#         return optim.Adam(self.parameters(), lr=0.01)\n",
        "\n",
        "#     def training_step(self, batch, batch_idx):\n",
        "#         x, y = batch\n",
        "#         logits = self(x)\n",
        "#         loss = self.loss_fn(logits, y)\n",
        "#         preds = torch.sigmoid(logits) > 0.5\n",
        "#         acc = (preds.float() == y).float().mean()\n",
        "#         self.log(\"train_loss\", loss, prog_bar=True)\n",
        "#         self.log(\"train_acc\", acc, prog_bar=True)\n",
        "#         return loss"
      ],
      "metadata": {
        "id": "1yPZxpV_DRlt"
      },
      "execution_count": 62,
      "outputs": []
    },
    {
      "cell_type": "code",
      "source": [
        "# Configuring trainer\n",
        "from pytorch_lightning.utilities.types import TRAIN_DATALOADERS;\n",
        "checkpoint_callback = ModelCheckpoint();\n",
        "model = XORModel();\n",
        "\n",
        "trainer = pl.Trainer(max_epochs = 100,callbacks=[checkpoint_callback]);"
      ],
      "metadata": {
        "id": "XGTLI_AEGdX4",
        "colab": {
          "base_uri": "https://localhost:8080/"
        },
        "outputId": "f9b14a42-d8f4-428e-bb91-63caf8b0f0a5"
      },
      "execution_count": 63,
      "outputs": [
        {
          "output_type": "stream",
          "name": "stderr",
          "text": [
            "INFO:pytorch_lightning.utilities.rank_zero:GPU available: False, used: False\n",
            "INFO:pytorch_lightning.utilities.rank_zero:TPU available: False, using: 0 TPU cores\n",
            "INFO:pytorch_lightning.utilities.rank_zero:HPU available: False, using: 0 HPUs\n"
          ]
        }
      ]
    },
    {
      "cell_type": "code",
      "source": [
        "# Training data\n",
        "trainer.fit(model,train_dataloaders=train_loader);"
      ],
      "metadata": {
        "colab": {
          "base_uri": "https://localhost:8080/",
          "height": 309,
          "referenced_widgets": [
            "56c7ec98f5684b918f4181b88411609b",
            "fccc99ed8db84845be1e277f28f054a3",
            "755ae7a8a6ce416eb325ee58fd73c1f0",
            "e9ae1ced58d545b7874c1e4ff7867b0e",
            "119a5a309e5748ae8c2bbaba9d265f4a",
            "6b8dbe0285fa499db660394116e6a7a3",
            "f67fc2ee05934e3c942424e099b2d08c",
            "ab84cd76f5364336afd2412d81f3ca87",
            "f769b2439e9b4e6086f0ea6bf06c3270",
            "fcf8a43cada94ab5bb2cf2daf46eb388",
            "9d81dbaf26804369a1c46b023833005e"
          ]
        },
        "id": "UWUx22L-CPO3",
        "outputId": "32f8dd79-8b52-4699-d7c1-50763b8687b5"
      },
      "execution_count": 64,
      "outputs": [
        {
          "output_type": "stream",
          "name": "stderr",
          "text": [
            "INFO:pytorch_lightning.callbacks.model_summary:\n",
            "  | Name         | Type    | Params | Mode \n",
            "-------------------------------------------------\n",
            "0 | input_layer  | Linear  | 12     | train\n",
            "1 | output_layer | Linear  | 5      | train\n",
            "2 | sigmoid      | Sigmoid | 0      | train\n",
            "3 | loss         | MSELoss | 0      | train\n",
            "-------------------------------------------------\n",
            "17        Trainable params\n",
            "0         Non-trainable params\n",
            "17        Total params\n",
            "0.000     Total estimated model params size (MB)\n",
            "4         Modules in train mode\n",
            "0         Modules in eval mode\n"
          ]
        },
        {
          "output_type": "display_data",
          "data": {
            "text/plain": [
              "Training: |          | 0/? [00:00<?, ?it/s]"
            ],
            "application/vnd.jupyter.widget-view+json": {
              "version_major": 2,
              "version_minor": 0,
              "model_id": "56c7ec98f5684b918f4181b88411609b"
            }
          },
          "metadata": {}
        },
        {
          "output_type": "stream",
          "name": "stderr",
          "text": [
            "INFO:pytorch_lightning.utilities.rank_zero:`Trainer.fit` stopped: `max_epochs=100` reached.\n"
          ]
        }
      ]
    },
    {
      "cell_type": "code",
      "source": [
        "# Displaying trained model with version\n",
        "%ls lightning_logs/"
      ],
      "metadata": {
        "colab": {
          "base_uri": "https://localhost:8080/"
        },
        "id": "ibOfEhleDbM-",
        "outputId": "ae99a046-bc8a-4507-ceb7-4072ccd77d48"
      },
      "execution_count": 65,
      "outputs": [
        {
          "output_type": "stream",
          "name": "stdout",
          "text": [
            "\u001b[0m\u001b[01;34mversion_0\u001b[0m/  \u001b[01;34mversion_1\u001b[0m/  \u001b[01;34mversion_2\u001b[0m/  \u001b[01;34mversion_3\u001b[0m/  \u001b[01;34mversion_4\u001b[0m/\n"
          ]
        }
      ]
    },
    {
      "cell_type": "code",
      "source": [
        "# Displaying latest model version checkpoint\n",
        "print(checkpoint_callback.best_model_path);"
      ],
      "metadata": {
        "colab": {
          "base_uri": "https://localhost:8080/"
        },
        "id": "UqEksODWEFhT",
        "outputId": "3aef8c62-e3ef-4822-cf21-8ea5a60c5b8c"
      },
      "execution_count": 66,
      "outputs": [
        {
          "output_type": "stream",
          "name": "stdout",
          "text": [
            "/content/lightning_logs/version_4/checkpoints/epoch=99-step=400.ckpt\n"
          ]
        }
      ]
    },
    {
      "cell_type": "code",
      "source": [
        "# Loading the model from checkpoint\n",
        "train_model = XORModel.load_from_checkpoint(checkpoint_callback.best_model_path);"
      ],
      "metadata": {
        "id": "I6T3R7S5FAHx"
      },
      "execution_count": 67,
      "outputs": []
    },
    {
      "cell_type": "code",
      "source": [
        "# Testing our current best model\n",
        "test = torch.utils.data.DataLoader(xor_inputs,batch_size=1);\n",
        "for val in xor_inputs:\n",
        "  _ = train_model(val);\n",
        "  print([int(val[0]),int(val[1])],int(_.round()));\n",
        "\n",
        "# model.eval()\n",
        "# with torch.no_grad():\n",
        "#     for inp in xor_inputs:\n",
        "#         out = model(inp.unsqueeze(0))  # Add batch dim\n",
        "#         pred = torch.sigmoid(out).round().item()\n",
        "#         print([int(inp[0]), int(inp[1])], int(pred))"
      ],
      "metadata": {
        "colab": {
          "base_uri": "https://localhost:8080/"
        },
        "id": "BZqGRFgsF1Ie",
        "outputId": "a2efbdd6-e178-4e82-fce9-c2e3d87e14fe"
      },
      "execution_count": 68,
      "outputs": [
        {
          "output_type": "stream",
          "name": "stdout",
          "text": [
            "[0, 0] 0\n",
            "[0, 1] 0\n",
            "[1, 0] 1\n",
            "[1, 1] 1\n"
          ]
        }
      ]
    },
    {
      "cell_type": "code",
      "source": [],
      "metadata": {
        "id": "VhbLWxkKGhG2"
      },
      "execution_count": 68,
      "outputs": []
    }
  ]
}