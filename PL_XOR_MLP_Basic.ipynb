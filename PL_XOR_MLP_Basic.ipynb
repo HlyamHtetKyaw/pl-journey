{
  "nbformat": 4,
  "nbformat_minor": 0,
  "metadata": {
    "colab": {
      "provenance": [],
      "authorship_tag": "ABX9TyO+t8Eo8HmKhgawW7Ja1ocS",
      "include_colab_link": true
    },
    "kernelspec": {
      "name": "python3",
      "display_name": "Python 3"
    },
    "language_info": {
      "name": "python"
    }
  },
  "cells": [
    {
      "cell_type": "markdown",
      "metadata": {
        "id": "view-in-github",
        "colab_type": "text"
      },
      "source": [
        "<a href=\"https://colab.research.google.com/github/HlyamHtetKyaw/pl-journey/blob/main/PL_XOR_MLP_Basic.ipynb\" target=\"_parent\"><img src=\"https://colab.research.google.com/assets/colab-badge.svg\" alt=\"Open In Colab\"/></a>"
      ]
    },
    {
      "cell_type": "code",
      "execution_count": null,
      "metadata": {
        "id": "Q_0IAv-f27KF"
      },
      "outputs": [],
      "source": [
        "!pip install pytorch-lightning"
      ]
    },
    {
      "cell_type": "code",
      "source": [
        "import pytorch_lightning as pl\n",
        "import torch\n",
        "from torch import nn, optim\n",
        "from torch.autograd import Variable\n",
        "import pytorch_lightning as pl\n",
        "from pytorch_lightning.callbacks import ModelCheckpoint\n",
        "from torch.utils.data import DataLoader"
      ],
      "metadata": {
        "id": "r9YYpKM4ACA3"
      },
      "execution_count": 45,
      "outputs": []
    },
    {
      "cell_type": "code",
      "source": [
        "print(\"torch vision: \",torch.__version__)\n",
        "print(\"pytorch lightening version: \",pl.__version__)"
      ],
      "metadata": {
        "colab": {
          "base_uri": "https://localhost:8080/"
        },
        "id": "BjxIFcF7ADRn",
        "outputId": "717b6530-0e8b-4365-a1b5-b9fa9e6cd32a"
      },
      "execution_count": 46,
      "outputs": [
        {
          "output_type": "stream",
          "name": "stdout",
          "text": [
            "torch vision:  2.6.0+cu124\n",
            "pytorch lightening version:  2.5.2\n"
          ]
        }
      ]
    },
    {
      "cell_type": "code",
      "source": [
        "xor_inputs = [Variable(torch.Tensor([0,0])),\n",
        "              Variable(torch.Tensor([0,1])),\n",
        "              Variable(torch.Tensor([1,0])),\n",
        "              Variable(torch.Tensor([1,1]))];"
      ],
      "metadata": {
        "id": "_0PPNowIA-aE"
      },
      "execution_count": 49,
      "outputs": []
    },
    {
      "cell_type": "code",
      "source": [
        "xor_targets = [Variable(torch.Tensor([0])),\n",
        "               Variable(torch.Tensor([1])),\n",
        "               Variable(torch.Tensor([1])),\n",
        "               Variable(torch.Tensor([0]))];"
      ],
      "metadata": {
        "id": "1l1kRz1XCQ5G"
      },
      "execution_count": 51,
      "outputs": []
    },
    {
      "cell_type": "code",
      "source": [
        "xor_data = list(zip(xor_inputs,xor_targets));\n",
        "train_loader = DataLoader(xor_data,batch_size=1);"
      ],
      "metadata": {
        "id": "eao8Px-9CqBM"
      },
      "execution_count": 56,
      "outputs": []
    },
    {
      "cell_type": "code",
      "source": [
        "class XORModel(pl.LightningModule):\n",
        "  def __init__(self):\n",
        "    super(XORModel,self).__init__();\n",
        "    self.input_layer = nn.Linear(2,4);\n",
        "    self.output_layer = nn.Linear(4,1);\n",
        "    self.sigmoid = nn.Sigmoid();\n",
        "    self.loss = nn.MSELoss();\n",
        "\n",
        "  def forward(self,input):\n",
        "    # print(\"INPUT: \",input.shape);\n",
        "    x = self.input_layer(input);\n",
        "    # print(\"FIRST: \",x.shape);\n",
        "    x = self.sigmoid(x);\n",
        "    # print(\"SECOND: \",x.shape);\n",
        "    output = self.output_layer(x)\n",
        "    # print(\"THIRD: \",output.shape);\n",
        "    return output;"
      ],
      "metadata": {
        "id": "1yPZxpV_DRlt"
      },
      "execution_count": 61,
      "outputs": []
    },
    {
      "cell_type": "code",
      "source": [],
      "metadata": {
        "id": "XGTLI_AEGdX4"
      },
      "execution_count": null,
      "outputs": []
    }
  ]
}