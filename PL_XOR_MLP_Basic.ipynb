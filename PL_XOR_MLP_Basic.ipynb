{
  "nbformat": 4,
  "nbformat_minor": 0,
  "metadata": {
    "colab": {
      "provenance": [],
      "authorship_tag": "ABX9TyOKiHe2mUQa4ZhJx8ZjbLqH",
      "include_colab_link": true
    },
    "kernelspec": {
      "name": "python3",
      "display_name": "Python 3"
    },
    "language_info": {
      "name": "python"
    },
    "widgets": {
      "application/vnd.jupyter.widget-state+json": {
        "8cd20243bcc84451baca9efbcf79b631": {
          "model_module": "@jupyter-widgets/controls",
          "model_name": "HBoxModel",
          "model_module_version": "1.5.0",
          "state": {
            "_dom_classes": [],
            "_model_module": "@jupyter-widgets/controls",
            "_model_module_version": "1.5.0",
            "_model_name": "HBoxModel",
            "_view_count": null,
            "_view_module": "@jupyter-widgets/controls",
            "_view_module_version": "1.5.0",
            "_view_name": "HBoxView",
            "box_style": "",
            "children": [
              "IPY_MODEL_46785e4eaad14406903874e841f613c7",
              "IPY_MODEL_55240463aea94660a3a0f71530e3c5b6",
              "IPY_MODEL_2aa1cd8e78314a599011b49f70a6adee"
            ],
            "layout": "IPY_MODEL_a5ba55bf963248d4831bd0edfe5a7aaa"
          }
        },
        "46785e4eaad14406903874e841f613c7": {
          "model_module": "@jupyter-widgets/controls",
          "model_name": "HTMLModel",
          "model_module_version": "1.5.0",
          "state": {
            "_dom_classes": [],
            "_model_module": "@jupyter-widgets/controls",
            "_model_module_version": "1.5.0",
            "_model_name": "HTMLModel",
            "_view_count": null,
            "_view_module": "@jupyter-widgets/controls",
            "_view_module_version": "1.5.0",
            "_view_name": "HTMLView",
            "description": "",
            "description_tooltip": null,
            "layout": "IPY_MODEL_a1116ec71ca34bb6be94ae83459a2b04",
            "placeholder": "​",
            "style": "IPY_MODEL_b1fba0df67524d779ff63f78cb7eb5e0",
            "value": "Epoch 99: 100%"
          }
        },
        "55240463aea94660a3a0f71530e3c5b6": {
          "model_module": "@jupyter-widgets/controls",
          "model_name": "FloatProgressModel",
          "model_module_version": "1.5.0",
          "state": {
            "_dom_classes": [],
            "_model_module": "@jupyter-widgets/controls",
            "_model_module_version": "1.5.0",
            "_model_name": "FloatProgressModel",
            "_view_count": null,
            "_view_module": "@jupyter-widgets/controls",
            "_view_module_version": "1.5.0",
            "_view_name": "ProgressView",
            "bar_style": "success",
            "description": "",
            "description_tooltip": null,
            "layout": "IPY_MODEL_cf6e1be4e4a34bd59ec529416a6abd65",
            "max": 4,
            "min": 0,
            "orientation": "horizontal",
            "style": "IPY_MODEL_52eade5976724307973cf85f4142b735",
            "value": 4
          }
        },
        "2aa1cd8e78314a599011b49f70a6adee": {
          "model_module": "@jupyter-widgets/controls",
          "model_name": "HTMLModel",
          "model_module_version": "1.5.0",
          "state": {
            "_dom_classes": [],
            "_model_module": "@jupyter-widgets/controls",
            "_model_module_version": "1.5.0",
            "_model_name": "HTMLModel",
            "_view_count": null,
            "_view_module": "@jupyter-widgets/controls",
            "_view_module_version": "1.5.0",
            "_view_name": "HTMLView",
            "description": "",
            "description_tooltip": null,
            "layout": "IPY_MODEL_95cff2dc1ff14328aa7b7ad6d4006623",
            "placeholder": "​",
            "style": "IPY_MODEL_a5a959bfc5cf48bcb89f76f6c9f7716a",
            "value": " 4/4 [00:00&lt;00:00, 96.87it/s, v_num=0]"
          }
        },
        "a5ba55bf963248d4831bd0edfe5a7aaa": {
          "model_module": "@jupyter-widgets/base",
          "model_name": "LayoutModel",
          "model_module_version": "1.2.0",
          "state": {
            "_model_module": "@jupyter-widgets/base",
            "_model_module_version": "1.2.0",
            "_model_name": "LayoutModel",
            "_view_count": null,
            "_view_module": "@jupyter-widgets/base",
            "_view_module_version": "1.2.0",
            "_view_name": "LayoutView",
            "align_content": null,
            "align_items": null,
            "align_self": null,
            "border": null,
            "bottom": null,
            "display": "inline-flex",
            "flex": null,
            "flex_flow": "row wrap",
            "grid_area": null,
            "grid_auto_columns": null,
            "grid_auto_flow": null,
            "grid_auto_rows": null,
            "grid_column": null,
            "grid_gap": null,
            "grid_row": null,
            "grid_template_areas": null,
            "grid_template_columns": null,
            "grid_template_rows": null,
            "height": null,
            "justify_content": null,
            "justify_items": null,
            "left": null,
            "margin": null,
            "max_height": null,
            "max_width": null,
            "min_height": null,
            "min_width": null,
            "object_fit": null,
            "object_position": null,
            "order": null,
            "overflow": null,
            "overflow_x": null,
            "overflow_y": null,
            "padding": null,
            "right": null,
            "top": null,
            "visibility": null,
            "width": "100%"
          }
        },
        "a1116ec71ca34bb6be94ae83459a2b04": {
          "model_module": "@jupyter-widgets/base",
          "model_name": "LayoutModel",
          "model_module_version": "1.2.0",
          "state": {
            "_model_module": "@jupyter-widgets/base",
            "_model_module_version": "1.2.0",
            "_model_name": "LayoutModel",
            "_view_count": null,
            "_view_module": "@jupyter-widgets/base",
            "_view_module_version": "1.2.0",
            "_view_name": "LayoutView",
            "align_content": null,
            "align_items": null,
            "align_self": null,
            "border": null,
            "bottom": null,
            "display": null,
            "flex": null,
            "flex_flow": null,
            "grid_area": null,
            "grid_auto_columns": null,
            "grid_auto_flow": null,
            "grid_auto_rows": null,
            "grid_column": null,
            "grid_gap": null,
            "grid_row": null,
            "grid_template_areas": null,
            "grid_template_columns": null,
            "grid_template_rows": null,
            "height": null,
            "justify_content": null,
            "justify_items": null,
            "left": null,
            "margin": null,
            "max_height": null,
            "max_width": null,
            "min_height": null,
            "min_width": null,
            "object_fit": null,
            "object_position": null,
            "order": null,
            "overflow": null,
            "overflow_x": null,
            "overflow_y": null,
            "padding": null,
            "right": null,
            "top": null,
            "visibility": null,
            "width": null
          }
        },
        "b1fba0df67524d779ff63f78cb7eb5e0": {
          "model_module": "@jupyter-widgets/controls",
          "model_name": "DescriptionStyleModel",
          "model_module_version": "1.5.0",
          "state": {
            "_model_module": "@jupyter-widgets/controls",
            "_model_module_version": "1.5.0",
            "_model_name": "DescriptionStyleModel",
            "_view_count": null,
            "_view_module": "@jupyter-widgets/base",
            "_view_module_version": "1.2.0",
            "_view_name": "StyleView",
            "description_width": ""
          }
        },
        "cf6e1be4e4a34bd59ec529416a6abd65": {
          "model_module": "@jupyter-widgets/base",
          "model_name": "LayoutModel",
          "model_module_version": "1.2.0",
          "state": {
            "_model_module": "@jupyter-widgets/base",
            "_model_module_version": "1.2.0",
            "_model_name": "LayoutModel",
            "_view_count": null,
            "_view_module": "@jupyter-widgets/base",
            "_view_module_version": "1.2.0",
            "_view_name": "LayoutView",
            "align_content": null,
            "align_items": null,
            "align_self": null,
            "border": null,
            "bottom": null,
            "display": null,
            "flex": "2",
            "flex_flow": null,
            "grid_area": null,
            "grid_auto_columns": null,
            "grid_auto_flow": null,
            "grid_auto_rows": null,
            "grid_column": null,
            "grid_gap": null,
            "grid_row": null,
            "grid_template_areas": null,
            "grid_template_columns": null,
            "grid_template_rows": null,
            "height": null,
            "justify_content": null,
            "justify_items": null,
            "left": null,
            "margin": null,
            "max_height": null,
            "max_width": null,
            "min_height": null,
            "min_width": null,
            "object_fit": null,
            "object_position": null,
            "order": null,
            "overflow": null,
            "overflow_x": null,
            "overflow_y": null,
            "padding": null,
            "right": null,
            "top": null,
            "visibility": null,
            "width": null
          }
        },
        "52eade5976724307973cf85f4142b735": {
          "model_module": "@jupyter-widgets/controls",
          "model_name": "ProgressStyleModel",
          "model_module_version": "1.5.0",
          "state": {
            "_model_module": "@jupyter-widgets/controls",
            "_model_module_version": "1.5.0",
            "_model_name": "ProgressStyleModel",
            "_view_count": null,
            "_view_module": "@jupyter-widgets/base",
            "_view_module_version": "1.2.0",
            "_view_name": "StyleView",
            "bar_color": null,
            "description_width": ""
          }
        },
        "95cff2dc1ff14328aa7b7ad6d4006623": {
          "model_module": "@jupyter-widgets/base",
          "model_name": "LayoutModel",
          "model_module_version": "1.2.0",
          "state": {
            "_model_module": "@jupyter-widgets/base",
            "_model_module_version": "1.2.0",
            "_model_name": "LayoutModel",
            "_view_count": null,
            "_view_module": "@jupyter-widgets/base",
            "_view_module_version": "1.2.0",
            "_view_name": "LayoutView",
            "align_content": null,
            "align_items": null,
            "align_self": null,
            "border": null,
            "bottom": null,
            "display": null,
            "flex": null,
            "flex_flow": null,
            "grid_area": null,
            "grid_auto_columns": null,
            "grid_auto_flow": null,
            "grid_auto_rows": null,
            "grid_column": null,
            "grid_gap": null,
            "grid_row": null,
            "grid_template_areas": null,
            "grid_template_columns": null,
            "grid_template_rows": null,
            "height": null,
            "justify_content": null,
            "justify_items": null,
            "left": null,
            "margin": null,
            "max_height": null,
            "max_width": null,
            "min_height": null,
            "min_width": null,
            "object_fit": null,
            "object_position": null,
            "order": null,
            "overflow": null,
            "overflow_x": null,
            "overflow_y": null,
            "padding": null,
            "right": null,
            "top": null,
            "visibility": null,
            "width": null
          }
        },
        "a5a959bfc5cf48bcb89f76f6c9f7716a": {
          "model_module": "@jupyter-widgets/controls",
          "model_name": "DescriptionStyleModel",
          "model_module_version": "1.5.0",
          "state": {
            "_model_module": "@jupyter-widgets/controls",
            "_model_module_version": "1.5.0",
            "_model_name": "DescriptionStyleModel",
            "_view_count": null,
            "_view_module": "@jupyter-widgets/base",
            "_view_module_version": "1.2.0",
            "_view_name": "StyleView",
            "description_width": ""
          }
        }
      }
    }
  },
  "cells": [
    {
      "cell_type": "markdown",
      "metadata": {
        "id": "view-in-github",
        "colab_type": "text"
      },
      "source": [
        "<a href=\"https://colab.research.google.com/github/HlyamHtetKyaw/pl-journey/blob/main/PL_XOR_MLP_Basic.ipynb\" target=\"_parent\"><img src=\"https://colab.research.google.com/assets/colab-badge.svg\" alt=\"Open In Colab\"/></a>"
      ]
    },
    {
      "cell_type": "code",
      "execution_count": null,
      "metadata": {
        "id": "Q_0IAv-f27KF"
      },
      "outputs": [],
      "source": [
        "!pip install pytorch-lightning"
      ]
    },
    {
      "cell_type": "code",
      "source": [
        "import pytorch_lightning as pl\n",
        "import torch\n",
        "from torch import nn, optim\n",
        "from torch.autograd import Variable\n",
        "import pytorch_lightning as pl\n",
        "from pytorch_lightning.callbacks import ModelCheckpoint\n",
        "from torch.utils.data import DataLoader"
      ],
      "metadata": {
        "id": "r9YYpKM4ACA3"
      },
      "execution_count": 2,
      "outputs": []
    },
    {
      "cell_type": "code",
      "source": [
        "print(\"torch vision: \",torch.__version__)\n",
        "print(\"pytorch lightening version: \",pl.__version__)"
      ],
      "metadata": {
        "colab": {
          "base_uri": "https://localhost:8080/"
        },
        "id": "BjxIFcF7ADRn",
        "outputId": "86f44d92-fa16-414f-9bc5-d5b58099568e"
      },
      "execution_count": 3,
      "outputs": [
        {
          "output_type": "stream",
          "name": "stdout",
          "text": [
            "torch vision:  2.6.0+cu124\n",
            "pytorch lightening version:  2.5.2\n"
          ]
        }
      ]
    },
    {
      "cell_type": "code",
      "source": [
        "# Xor inputs\n",
        "xor_inputs = [Variable(torch.Tensor([0,0])),\n",
        "              Variable(torch.Tensor([0,1])),\n",
        "              Variable(torch.Tensor([1,0])),\n",
        "              Variable(torch.Tensor([1,1]))];"
      ],
      "metadata": {
        "id": "_0PPNowIA-aE"
      },
      "execution_count": 4,
      "outputs": []
    },
    {
      "cell_type": "code",
      "source": [
        "# Target outputs\n",
        "xor_targets = [Variable(torch.Tensor([0])),\n",
        "               Variable(torch.Tensor([1])),\n",
        "               Variable(torch.Tensor([1])),\n",
        "               Variable(torch.Tensor([0]))];"
      ],
      "metadata": {
        "id": "1l1kRz1XCQ5G"
      },
      "execution_count": 5,
      "outputs": []
    },
    {
      "cell_type": "code",
      "source": [
        "# Making data set for input and target, also loading data into train_loader\n",
        "xor_data = list(zip(xor_inputs,xor_targets));\n",
        "train_loader = DataLoader(xor_data,batch_size=1);"
      ],
      "metadata": {
        "id": "eao8Px-9CqBM"
      },
      "execution_count": 6,
      "outputs": []
    },
    {
      "cell_type": "code",
      "source": [
        "# Initializing XORModel\n",
        "class XORModel(pl.LightningModule):\n",
        "  def __init__(self):\n",
        "    super(XORModel,self).__init__();\n",
        "    self.input_layer = nn.Linear(2,4);\n",
        "    self.output_layer = nn.Linear(4,1);\n",
        "    self.sigmoid = nn.Sigmoid();\n",
        "    self.loss = nn.MSELoss();\n",
        "\n",
        "  def forward(self,input):\n",
        "    # print(\"INPUT: \",input.shape);\n",
        "    x = self.input_layer(input);\n",
        "    # print(\"FIRST: \",x.shape);\n",
        "    x = self.sigmoid(x);\n",
        "    # print(\"SECOND: \",x.shape);\n",
        "    output = self.output_layer(x)\n",
        "    # print(\"THIRD: \",output.shape);\n",
        "    return output;\n",
        "\n",
        "  def configure_optimizers(self):\n",
        "    params = self.parameters();\n",
        "    optimizer = optim.Adam(params=params,lr=0.01);\n",
        "    return optimizer;\n",
        "\n",
        "  def training_step(self,batch,batch_idx):\n",
        "    xor_input, xor_target = batch;\n",
        "    # print(\"XOR INPUT: \",xor_input.shape);\n",
        "    # print(\"XOR TARGET: \",xor_target);\n",
        "    outputs = self(xor_input);\n",
        "    # print(\"XOR OUTPUT: \",outputs.target);\n",
        "    loss = self.loss(outputs,xor_target);\n",
        "    return loss;"
      ],
      "metadata": {
        "id": "1yPZxpV_DRlt"
      },
      "execution_count": 11,
      "outputs": []
    },
    {
      "cell_type": "code",
      "source": [
        "# Configuring trainer\n",
        "from pytorch_lightning.utilities.types import TRAIN_DATALOADERS;\n",
        "checkpoint_callback = ModelCheckpoint();\n",
        "model = XORModel();\n",
        "\n",
        "trainer = pl.Trainer(max_epochs = 100,callbacks=[checkpoint_callback]);"
      ],
      "metadata": {
        "id": "XGTLI_AEGdX4",
        "colab": {
          "base_uri": "https://localhost:8080/"
        },
        "outputId": "84453cf2-9eb4-450c-bdd6-30091d8c6f75"
      },
      "execution_count": 10,
      "outputs": [
        {
          "output_type": "stream",
          "name": "stderr",
          "text": [
            "INFO:pytorch_lightning.utilities.rank_zero:GPU available: False, used: False\n",
            "INFO:pytorch_lightning.utilities.rank_zero:TPU available: False, using: 0 TPU cores\n",
            "INFO:pytorch_lightning.utilities.rank_zero:HPU available: False, using: 0 HPUs\n"
          ]
        }
      ]
    },
    {
      "cell_type": "code",
      "source": [
        "# Training data\n",
        "trainer.fit(model,train_dataloaders=train_loader);"
      ],
      "metadata": {
        "colab": {
          "base_uri": "https://localhost:8080/",
          "height": 347,
          "referenced_widgets": [
            "8cd20243bcc84451baca9efbcf79b631",
            "46785e4eaad14406903874e841f613c7",
            "55240463aea94660a3a0f71530e3c5b6",
            "2aa1cd8e78314a599011b49f70a6adee",
            "a5ba55bf963248d4831bd0edfe5a7aaa",
            "a1116ec71ca34bb6be94ae83459a2b04",
            "b1fba0df67524d779ff63f78cb7eb5e0",
            "cf6e1be4e4a34bd59ec529416a6abd65",
            "52eade5976724307973cf85f4142b735",
            "95cff2dc1ff14328aa7b7ad6d4006623",
            "a5a959bfc5cf48bcb89f76f6c9f7716a"
          ]
        },
        "id": "UWUx22L-CPO3",
        "outputId": "de909be2-3e07-4531-a767-33fdcee11249"
      },
      "execution_count": 12,
      "outputs": [
        {
          "output_type": "stream",
          "name": "stderr",
          "text": [
            "INFO:pytorch_lightning.callbacks.model_summary:\n",
            "  | Name         | Type    | Params | Mode \n",
            "-------------------------------------------------\n",
            "0 | input_layer  | Linear  | 12     | train\n",
            "1 | output_layer | Linear  | 5      | train\n",
            "2 | sigmoid      | Sigmoid | 0      | train\n",
            "3 | loss         | MSELoss | 0      | train\n",
            "-------------------------------------------------\n",
            "17        Trainable params\n",
            "0         Non-trainable params\n",
            "17        Total params\n",
            "0.000     Total estimated model params size (MB)\n",
            "4         Modules in train mode\n",
            "0         Modules in eval mode\n",
            "/usr/local/lib/python3.11/dist-packages/pytorch_lightning/loops/fit_loop.py:310: The number of training batches (4) is smaller than the logging interval Trainer(log_every_n_steps=50). Set a lower value for log_every_n_steps if you want to see logs for the training epoch.\n"
          ]
        },
        {
          "output_type": "display_data",
          "data": {
            "text/plain": [
              "Training: |          | 0/? [00:00<?, ?it/s]"
            ],
            "application/vnd.jupyter.widget-view+json": {
              "version_major": 2,
              "version_minor": 0,
              "model_id": "8cd20243bcc84451baca9efbcf79b631"
            }
          },
          "metadata": {}
        },
        {
          "output_type": "stream",
          "name": "stderr",
          "text": [
            "INFO:pytorch_lightning.utilities.rank_zero:`Trainer.fit` stopped: `max_epochs=100` reached.\n"
          ]
        }
      ]
    },
    {
      "cell_type": "code",
      "source": [
        "# Displaying trained model with version\n",
        "%ls lightning_logs/"
      ],
      "metadata": {
        "colab": {
          "base_uri": "https://localhost:8080/"
        },
        "id": "ibOfEhleDbM-",
        "outputId": "867c054d-7533-436f-d0fd-7d7189d62afe"
      },
      "execution_count": 15,
      "outputs": [
        {
          "output_type": "stream",
          "name": "stdout",
          "text": [
            "\u001b[0m\u001b[01;34mversion_0\u001b[0m/\n"
          ]
        }
      ]
    },
    {
      "cell_type": "code",
      "source": [],
      "metadata": {
        "id": "UqEksODWEFhT"
      },
      "execution_count": null,
      "outputs": []
    }
  ]
}